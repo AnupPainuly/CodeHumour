{
 "cells": [
  {
   "cell_type": "code",
   "execution_count": 1,
   "id": "40072ffd",
   "metadata": {
    "_cell_guid": "b1076dfc-b9ad-4769-8c92-a6c4dae69d19",
    "_uuid": "8f2839f25d086af736a60e9eeb907d3b93b6e0e5",
    "execution": {
     "iopub.execute_input": "2023-08-02T15:53:39.262109Z",
     "iopub.status.busy": "2023-08-02T15:53:39.261072Z",
     "iopub.status.idle": "2023-08-02T15:53:39.280196Z",
     "shell.execute_reply": "2023-08-02T15:53:39.278551Z"
    },
    "papermill": {
     "duration": 0.032375,
     "end_time": "2023-08-02T15:53:39.282689",
     "exception": false,
     "start_time": "2023-08-02T15:53:39.250314",
     "status": "completed"
    },
    "tags": []
   },
   "outputs": [
    {
     "name": "stdout",
     "output_type": "stream",
     "text": [
      "/kaggle/input/spaceship-titanic/sample_submission.csv\n",
      "/kaggle/input/spaceship-titanic/train.csv\n",
      "/kaggle/input/spaceship-titanic/test.csv\n"
     ]
    }
   ],
   "source": [
    "# This Python 3 environment comes with many helpful analytics libraries installed\n",
    "# It is defined by the kaggle/python Docker image: https://github.com/kaggle/docker-python\n",
    "# For example, here's several helpful packages to load\n",
    "\n",
    "import numpy as np # linear algebra\n",
    "import pandas as pd # data processing, CSV file I/O (e.g. pd.read_csv)\n",
    "\n",
    "# Input data files are available in the read-only \"../input/\" directory\n",
    "# For example, running this (by clicking run or pressing Shift+Enter) will list all files under the input directory\n",
    "\n",
    "import os\n",
    "for dirname, _, filenames in os.walk('/kaggle/input'):\n",
    "    for filename in filenames:\n",
    "        print(os.path.join(dirname, filename))\n",
    "\n",
    "# You can write up to 20GB to the current directory (/kaggle/working/) that gets preserved as output when you create a version using \"Save & Run All\" \n",
    "# You can also write temporary files to /kaggle/temp/, but they won't be saved outside of the current session"
   ]
  },
  {
   "cell_type": "code",
   "execution_count": 2,
   "id": "56e1de2d",
   "metadata": {
    "execution": {
     "iopub.execute_input": "2023-08-02T15:53:39.301707Z",
     "iopub.status.busy": "2023-08-02T15:53:39.300676Z",
     "iopub.status.idle": "2023-08-02T15:53:41.632057Z",
     "shell.execute_reply": "2023-08-02T15:53:41.630618Z"
    },
    "papermill": {
     "duration": 2.344179,
     "end_time": "2023-08-02T15:53:41.635483",
     "exception": false,
     "start_time": "2023-08-02T15:53:39.291304",
     "status": "completed"
    },
    "tags": []
   },
   "outputs": [
    {
     "name": "stderr",
     "output_type": "stream",
     "text": [
      "/opt/conda/lib/python3.10/site-packages/scipy/__init__.py:146: UserWarning: A NumPy version >=1.16.5 and <1.23.0 is required for this version of SciPy (detected version 1.23.5\n",
      "  warnings.warn(f\"A NumPy version >={np_minversion} and <{np_maxversion}\"\n"
     ]
    }
   ],
   "source": [
    "import numpy as np\n",
    "import pandas as pd\n",
    "import seaborn as sns\n",
    "from matplotlib import pyplot as plt\n",
    "from sklearn.metrics import log_loss\n",
    "from sklearn.ensemble import RandomForestClassifier\n",
    "from sklearn.model_selection import GridSearchCV, StratifiedKFold, KFold, RandomizedSearchCV\n",
    "from sklearn.preprocessing import LabelEncoder\n",
    "from sklearn.impute import SimpleImputer\n",
    "from sklearn.pipeline import Pipeline"
   ]
  },
  {
   "cell_type": "code",
   "execution_count": 3,
   "id": "c84e2266",
   "metadata": {
    "execution": {
     "iopub.execute_input": "2023-08-02T15:53:41.655629Z",
     "iopub.status.busy": "2023-08-02T15:53:41.655201Z",
     "iopub.status.idle": "2023-08-02T15:53:41.801782Z",
     "shell.execute_reply": "2023-08-02T15:53:41.800575Z"
    },
    "papermill": {
     "duration": 0.15942,
     "end_time": "2023-08-02T15:53:41.804575",
     "exception": false,
     "start_time": "2023-08-02T15:53:41.645155",
     "status": "completed"
    },
    "tags": []
   },
   "outputs": [
    {
     "data": {
      "text/html": [
       "<div>\n",
       "<style scoped>\n",
       "    .dataframe tbody tr th:only-of-type {\n",
       "        vertical-align: middle;\n",
       "    }\n",
       "\n",
       "    .dataframe tbody tr th {\n",
       "        vertical-align: top;\n",
       "    }\n",
       "\n",
       "    .dataframe thead th {\n",
       "        text-align: right;\n",
       "    }\n",
       "</style>\n",
       "<table border=\"1\" class=\"dataframe\">\n",
       "  <thead>\n",
       "    <tr style=\"text-align: right;\">\n",
       "      <th></th>\n",
       "      <th>PassengerId</th>\n",
       "      <th>HomePlanet</th>\n",
       "      <th>CryoSleep</th>\n",
       "      <th>Cabin</th>\n",
       "      <th>Destination</th>\n",
       "      <th>Age</th>\n",
       "      <th>VIP</th>\n",
       "      <th>RoomService</th>\n",
       "      <th>FoodCourt</th>\n",
       "      <th>ShoppingMall</th>\n",
       "      <th>Spa</th>\n",
       "      <th>VRDeck</th>\n",
       "      <th>Name</th>\n",
       "      <th>Transported</th>\n",
       "    </tr>\n",
       "  </thead>\n",
       "  <tbody>\n",
       "    <tr>\n",
       "      <th>0</th>\n",
       "      <td>0001_01</td>\n",
       "      <td>Europa</td>\n",
       "      <td>False</td>\n",
       "      <td>B/0/P</td>\n",
       "      <td>TRAPPIST-1e</td>\n",
       "      <td>39.0</td>\n",
       "      <td>False</td>\n",
       "      <td>0.0</td>\n",
       "      <td>0.0</td>\n",
       "      <td>0.0</td>\n",
       "      <td>0.0</td>\n",
       "      <td>0.0</td>\n",
       "      <td>Maham Ofracculy</td>\n",
       "      <td>False</td>\n",
       "    </tr>\n",
       "    <tr>\n",
       "      <th>1</th>\n",
       "      <td>0002_01</td>\n",
       "      <td>Earth</td>\n",
       "      <td>False</td>\n",
       "      <td>F/0/S</td>\n",
       "      <td>TRAPPIST-1e</td>\n",
       "      <td>24.0</td>\n",
       "      <td>False</td>\n",
       "      <td>109.0</td>\n",
       "      <td>9.0</td>\n",
       "      <td>25.0</td>\n",
       "      <td>549.0</td>\n",
       "      <td>44.0</td>\n",
       "      <td>Juanna Vines</td>\n",
       "      <td>True</td>\n",
       "    </tr>\n",
       "    <tr>\n",
       "      <th>2</th>\n",
       "      <td>0003_01</td>\n",
       "      <td>Europa</td>\n",
       "      <td>False</td>\n",
       "      <td>A/0/S</td>\n",
       "      <td>TRAPPIST-1e</td>\n",
       "      <td>58.0</td>\n",
       "      <td>True</td>\n",
       "      <td>43.0</td>\n",
       "      <td>3576.0</td>\n",
       "      <td>0.0</td>\n",
       "      <td>6715.0</td>\n",
       "      <td>49.0</td>\n",
       "      <td>Altark Susent</td>\n",
       "      <td>False</td>\n",
       "    </tr>\n",
       "    <tr>\n",
       "      <th>3</th>\n",
       "      <td>0003_02</td>\n",
       "      <td>Europa</td>\n",
       "      <td>False</td>\n",
       "      <td>A/0/S</td>\n",
       "      <td>TRAPPIST-1e</td>\n",
       "      <td>33.0</td>\n",
       "      <td>False</td>\n",
       "      <td>0.0</td>\n",
       "      <td>1283.0</td>\n",
       "      <td>371.0</td>\n",
       "      <td>3329.0</td>\n",
       "      <td>193.0</td>\n",
       "      <td>Solam Susent</td>\n",
       "      <td>False</td>\n",
       "    </tr>\n",
       "    <tr>\n",
       "      <th>4</th>\n",
       "      <td>0004_01</td>\n",
       "      <td>Earth</td>\n",
       "      <td>False</td>\n",
       "      <td>F/1/S</td>\n",
       "      <td>TRAPPIST-1e</td>\n",
       "      <td>16.0</td>\n",
       "      <td>False</td>\n",
       "      <td>303.0</td>\n",
       "      <td>70.0</td>\n",
       "      <td>151.0</td>\n",
       "      <td>565.0</td>\n",
       "      <td>2.0</td>\n",
       "      <td>Willy Santantines</td>\n",
       "      <td>True</td>\n",
       "    </tr>\n",
       "    <tr>\n",
       "      <th>...</th>\n",
       "      <td>...</td>\n",
       "      <td>...</td>\n",
       "      <td>...</td>\n",
       "      <td>...</td>\n",
       "      <td>...</td>\n",
       "      <td>...</td>\n",
       "      <td>...</td>\n",
       "      <td>...</td>\n",
       "      <td>...</td>\n",
       "      <td>...</td>\n",
       "      <td>...</td>\n",
       "      <td>...</td>\n",
       "      <td>...</td>\n",
       "      <td>...</td>\n",
       "    </tr>\n",
       "    <tr>\n",
       "      <th>8688</th>\n",
       "      <td>9276_01</td>\n",
       "      <td>Europa</td>\n",
       "      <td>False</td>\n",
       "      <td>A/98/P</td>\n",
       "      <td>55 Cancri e</td>\n",
       "      <td>41.0</td>\n",
       "      <td>True</td>\n",
       "      <td>0.0</td>\n",
       "      <td>6819.0</td>\n",
       "      <td>0.0</td>\n",
       "      <td>1643.0</td>\n",
       "      <td>74.0</td>\n",
       "      <td>Gravior Noxnuther</td>\n",
       "      <td>False</td>\n",
       "    </tr>\n",
       "    <tr>\n",
       "      <th>8689</th>\n",
       "      <td>9278_01</td>\n",
       "      <td>Earth</td>\n",
       "      <td>True</td>\n",
       "      <td>G/1499/S</td>\n",
       "      <td>PSO J318.5-22</td>\n",
       "      <td>18.0</td>\n",
       "      <td>False</td>\n",
       "      <td>0.0</td>\n",
       "      <td>0.0</td>\n",
       "      <td>0.0</td>\n",
       "      <td>0.0</td>\n",
       "      <td>0.0</td>\n",
       "      <td>Kurta Mondalley</td>\n",
       "      <td>False</td>\n",
       "    </tr>\n",
       "    <tr>\n",
       "      <th>8690</th>\n",
       "      <td>9279_01</td>\n",
       "      <td>Earth</td>\n",
       "      <td>False</td>\n",
       "      <td>G/1500/S</td>\n",
       "      <td>TRAPPIST-1e</td>\n",
       "      <td>26.0</td>\n",
       "      <td>False</td>\n",
       "      <td>0.0</td>\n",
       "      <td>0.0</td>\n",
       "      <td>1872.0</td>\n",
       "      <td>1.0</td>\n",
       "      <td>0.0</td>\n",
       "      <td>Fayey Connon</td>\n",
       "      <td>True</td>\n",
       "    </tr>\n",
       "    <tr>\n",
       "      <th>8691</th>\n",
       "      <td>9280_01</td>\n",
       "      <td>Europa</td>\n",
       "      <td>False</td>\n",
       "      <td>E/608/S</td>\n",
       "      <td>55 Cancri e</td>\n",
       "      <td>32.0</td>\n",
       "      <td>False</td>\n",
       "      <td>0.0</td>\n",
       "      <td>1049.0</td>\n",
       "      <td>0.0</td>\n",
       "      <td>353.0</td>\n",
       "      <td>3235.0</td>\n",
       "      <td>Celeon Hontichre</td>\n",
       "      <td>False</td>\n",
       "    </tr>\n",
       "    <tr>\n",
       "      <th>8692</th>\n",
       "      <td>9280_02</td>\n",
       "      <td>Europa</td>\n",
       "      <td>False</td>\n",
       "      <td>E/608/S</td>\n",
       "      <td>TRAPPIST-1e</td>\n",
       "      <td>44.0</td>\n",
       "      <td>False</td>\n",
       "      <td>126.0</td>\n",
       "      <td>4688.0</td>\n",
       "      <td>0.0</td>\n",
       "      <td>0.0</td>\n",
       "      <td>12.0</td>\n",
       "      <td>Propsh Hontichre</td>\n",
       "      <td>True</td>\n",
       "    </tr>\n",
       "  </tbody>\n",
       "</table>\n",
       "<p>8693 rows × 14 columns</p>\n",
       "</div>"
      ],
      "text/plain": [
       "     PassengerId HomePlanet CryoSleep     Cabin    Destination   Age    VIP  \\\n",
       "0        0001_01     Europa     False     B/0/P    TRAPPIST-1e  39.0  False   \n",
       "1        0002_01      Earth     False     F/0/S    TRAPPIST-1e  24.0  False   \n",
       "2        0003_01     Europa     False     A/0/S    TRAPPIST-1e  58.0   True   \n",
       "3        0003_02     Europa     False     A/0/S    TRAPPIST-1e  33.0  False   \n",
       "4        0004_01      Earth     False     F/1/S    TRAPPIST-1e  16.0  False   \n",
       "...          ...        ...       ...       ...            ...   ...    ...   \n",
       "8688     9276_01     Europa     False    A/98/P    55 Cancri e  41.0   True   \n",
       "8689     9278_01      Earth      True  G/1499/S  PSO J318.5-22  18.0  False   \n",
       "8690     9279_01      Earth     False  G/1500/S    TRAPPIST-1e  26.0  False   \n",
       "8691     9280_01     Europa     False   E/608/S    55 Cancri e  32.0  False   \n",
       "8692     9280_02     Europa     False   E/608/S    TRAPPIST-1e  44.0  False   \n",
       "\n",
       "      RoomService  FoodCourt  ShoppingMall     Spa  VRDeck               Name  \\\n",
       "0             0.0        0.0           0.0     0.0     0.0    Maham Ofracculy   \n",
       "1           109.0        9.0          25.0   549.0    44.0       Juanna Vines   \n",
       "2            43.0     3576.0           0.0  6715.0    49.0      Altark Susent   \n",
       "3             0.0     1283.0         371.0  3329.0   193.0       Solam Susent   \n",
       "4           303.0       70.0         151.0   565.0     2.0  Willy Santantines   \n",
       "...           ...        ...           ...     ...     ...                ...   \n",
       "8688          0.0     6819.0           0.0  1643.0    74.0  Gravior Noxnuther   \n",
       "8689          0.0        0.0           0.0     0.0     0.0    Kurta Mondalley   \n",
       "8690          0.0        0.0        1872.0     1.0     0.0       Fayey Connon   \n",
       "8691          0.0     1049.0           0.0   353.0  3235.0   Celeon Hontichre   \n",
       "8692        126.0     4688.0           0.0     0.0    12.0   Propsh Hontichre   \n",
       "\n",
       "      Transported  \n",
       "0           False  \n",
       "1            True  \n",
       "2           False  \n",
       "3           False  \n",
       "4            True  \n",
       "...           ...  \n",
       "8688        False  \n",
       "8689        False  \n",
       "8690         True  \n",
       "8691        False  \n",
       "8692         True  \n",
       "\n",
       "[8693 rows x 14 columns]"
      ]
     },
     "execution_count": 3,
     "metadata": {},
     "output_type": "execute_result"
    }
   ],
   "source": [
    "train = pd.read_csv(\"/kaggle/input/spaceship-titanic/train.csv\")\n",
    "test = pd.read_csv(\"/kaggle/input/spaceship-titanic/test.csv\")\n",
    "train"
   ]
  },
  {
   "cell_type": "code",
   "execution_count": 4,
   "id": "7572cac6",
   "metadata": {
    "execution": {
     "iopub.execute_input": "2023-08-02T15:53:41.825634Z",
     "iopub.status.busy": "2023-08-02T15:53:41.824785Z",
     "iopub.status.idle": "2023-08-02T15:53:41.869507Z",
     "shell.execute_reply": "2023-08-02T15:53:41.868188Z"
    },
    "papermill": {
     "duration": 0.059365,
     "end_time": "2023-08-02T15:53:41.872995",
     "exception": false,
     "start_time": "2023-08-02T15:53:41.813630",
     "status": "completed"
    },
    "tags": []
   },
   "outputs": [
    {
     "name": "stdout",
     "output_type": "stream",
     "text": [
      "<class 'pandas.core.frame.DataFrame'>\n",
      "RangeIndex: 8693 entries, 0 to 8692\n",
      "Data columns (total 14 columns):\n",
      " #   Column        Non-Null Count  Dtype  \n",
      "---  ------        --------------  -----  \n",
      " 0   PassengerId   8693 non-null   object \n",
      " 1   HomePlanet    8492 non-null   object \n",
      " 2   CryoSleep     8476 non-null   object \n",
      " 3   Cabin         8494 non-null   object \n",
      " 4   Destination   8511 non-null   object \n",
      " 5   Age           8514 non-null   float64\n",
      " 6   VIP           8490 non-null   object \n",
      " 7   RoomService   8512 non-null   float64\n",
      " 8   FoodCourt     8510 non-null   float64\n",
      " 9   ShoppingMall  8485 non-null   float64\n",
      " 10  Spa           8510 non-null   float64\n",
      " 11  VRDeck        8505 non-null   float64\n",
      " 12  Name          8493 non-null   object \n",
      " 13  Transported   8693 non-null   bool   \n",
      "dtypes: bool(1), float64(6), object(7)\n",
      "memory usage: 891.5+ KB\n"
     ]
    }
   ],
   "source": [
    "train.info()"
   ]
  },
  {
   "cell_type": "code",
   "execution_count": 5,
   "id": "79982291",
   "metadata": {
    "execution": {
     "iopub.execute_input": "2023-08-02T15:53:41.894611Z",
     "iopub.status.busy": "2023-08-02T15:53:41.894211Z",
     "iopub.status.idle": "2023-08-02T15:53:41.931534Z",
     "shell.execute_reply": "2023-08-02T15:53:41.930174Z"
    },
    "papermill": {
     "duration": 0.052238,
     "end_time": "2023-08-02T15:53:41.934304",
     "exception": false,
     "start_time": "2023-08-02T15:53:41.882066",
     "status": "completed"
    },
    "tags": []
   },
   "outputs": [
    {
     "data": {
      "text/html": [
       "<div>\n",
       "<style scoped>\n",
       "    .dataframe tbody tr th:only-of-type {\n",
       "        vertical-align: middle;\n",
       "    }\n",
       "\n",
       "    .dataframe tbody tr th {\n",
       "        vertical-align: top;\n",
       "    }\n",
       "\n",
       "    .dataframe thead th {\n",
       "        text-align: right;\n",
       "    }\n",
       "</style>\n",
       "<table border=\"1\" class=\"dataframe\">\n",
       "  <thead>\n",
       "    <tr style=\"text-align: right;\">\n",
       "      <th></th>\n",
       "      <th>Age</th>\n",
       "      <th>RoomService</th>\n",
       "      <th>FoodCourt</th>\n",
       "      <th>ShoppingMall</th>\n",
       "      <th>Spa</th>\n",
       "      <th>VRDeck</th>\n",
       "    </tr>\n",
       "  </thead>\n",
       "  <tbody>\n",
       "    <tr>\n",
       "      <th>count</th>\n",
       "      <td>8514.000000</td>\n",
       "      <td>8512.000000</td>\n",
       "      <td>8510.000000</td>\n",
       "      <td>8485.000000</td>\n",
       "      <td>8510.000000</td>\n",
       "      <td>8505.000000</td>\n",
       "    </tr>\n",
       "    <tr>\n",
       "      <th>mean</th>\n",
       "      <td>28.827930</td>\n",
       "      <td>224.687617</td>\n",
       "      <td>458.077203</td>\n",
       "      <td>173.729169</td>\n",
       "      <td>311.138778</td>\n",
       "      <td>304.854791</td>\n",
       "    </tr>\n",
       "    <tr>\n",
       "      <th>std</th>\n",
       "      <td>14.489021</td>\n",
       "      <td>666.717663</td>\n",
       "      <td>1611.489240</td>\n",
       "      <td>604.696458</td>\n",
       "      <td>1136.705535</td>\n",
       "      <td>1145.717189</td>\n",
       "    </tr>\n",
       "    <tr>\n",
       "      <th>min</th>\n",
       "      <td>0.000000</td>\n",
       "      <td>0.000000</td>\n",
       "      <td>0.000000</td>\n",
       "      <td>0.000000</td>\n",
       "      <td>0.000000</td>\n",
       "      <td>0.000000</td>\n",
       "    </tr>\n",
       "    <tr>\n",
       "      <th>25%</th>\n",
       "      <td>19.000000</td>\n",
       "      <td>0.000000</td>\n",
       "      <td>0.000000</td>\n",
       "      <td>0.000000</td>\n",
       "      <td>0.000000</td>\n",
       "      <td>0.000000</td>\n",
       "    </tr>\n",
       "    <tr>\n",
       "      <th>50%</th>\n",
       "      <td>27.000000</td>\n",
       "      <td>0.000000</td>\n",
       "      <td>0.000000</td>\n",
       "      <td>0.000000</td>\n",
       "      <td>0.000000</td>\n",
       "      <td>0.000000</td>\n",
       "    </tr>\n",
       "    <tr>\n",
       "      <th>75%</th>\n",
       "      <td>38.000000</td>\n",
       "      <td>47.000000</td>\n",
       "      <td>76.000000</td>\n",
       "      <td>27.000000</td>\n",
       "      <td>59.000000</td>\n",
       "      <td>46.000000</td>\n",
       "    </tr>\n",
       "    <tr>\n",
       "      <th>max</th>\n",
       "      <td>79.000000</td>\n",
       "      <td>14327.000000</td>\n",
       "      <td>29813.000000</td>\n",
       "      <td>23492.000000</td>\n",
       "      <td>22408.000000</td>\n",
       "      <td>24133.000000</td>\n",
       "    </tr>\n",
       "  </tbody>\n",
       "</table>\n",
       "</div>"
      ],
      "text/plain": [
       "               Age   RoomService     FoodCourt  ShoppingMall           Spa  \\\n",
       "count  8514.000000   8512.000000   8510.000000   8485.000000   8510.000000   \n",
       "mean     28.827930    224.687617    458.077203    173.729169    311.138778   \n",
       "std      14.489021    666.717663   1611.489240    604.696458   1136.705535   \n",
       "min       0.000000      0.000000      0.000000      0.000000      0.000000   \n",
       "25%      19.000000      0.000000      0.000000      0.000000      0.000000   \n",
       "50%      27.000000      0.000000      0.000000      0.000000      0.000000   \n",
       "75%      38.000000     47.000000     76.000000     27.000000     59.000000   \n",
       "max      79.000000  14327.000000  29813.000000  23492.000000  22408.000000   \n",
       "\n",
       "             VRDeck  \n",
       "count   8505.000000  \n",
       "mean     304.854791  \n",
       "std     1145.717189  \n",
       "min        0.000000  \n",
       "25%        0.000000  \n",
       "50%        0.000000  \n",
       "75%       46.000000  \n",
       "max    24133.000000  "
      ]
     },
     "execution_count": 5,
     "metadata": {},
     "output_type": "execute_result"
    }
   ],
   "source": [
    "train.describe()"
   ]
  },
  {
   "cell_type": "code",
   "execution_count": 6,
   "id": "374f3486",
   "metadata": {
    "execution": {
     "iopub.execute_input": "2023-08-02T15:53:41.954320Z",
     "iopub.status.busy": "2023-08-02T15:53:41.953911Z",
     "iopub.status.idle": "2023-08-02T15:53:41.985624Z",
     "shell.execute_reply": "2023-08-02T15:53:41.984272Z"
    },
    "papermill": {
     "duration": 0.045055,
     "end_time": "2023-08-02T15:53:41.988346",
     "exception": false,
     "start_time": "2023-08-02T15:53:41.943291",
     "status": "completed"
    },
    "tags": []
   },
   "outputs": [
    {
     "data": {
      "text/plain": [
       "PassengerId       0\n",
       "HomePlanet      201\n",
       "CryoSleep       217\n",
       "Cabin           199\n",
       "Destination     182\n",
       "Age             179\n",
       "VIP             203\n",
       "RoomService     181\n",
       "FoodCourt       183\n",
       "ShoppingMall    208\n",
       "Spa             183\n",
       "VRDeck          188\n",
       "Name            200\n",
       "Transported       0\n",
       "dtype: int64"
      ]
     },
     "execution_count": 6,
     "metadata": {},
     "output_type": "execute_result"
    }
   ],
   "source": [
    "train.isnull().sum()"
   ]
  },
  {
   "cell_type": "code",
   "execution_count": 7,
   "id": "f79e29b0",
   "metadata": {
    "execution": {
     "iopub.execute_input": "2023-08-02T15:53:42.009344Z",
     "iopub.status.busy": "2023-08-02T15:53:42.008826Z",
     "iopub.status.idle": "2023-08-02T15:53:42.029874Z",
     "shell.execute_reply": "2023-08-02T15:53:42.028739Z"
    },
    "papermill": {
     "duration": 0.03478,
     "end_time": "2023-08-02T15:53:42.032680",
     "exception": false,
     "start_time": "2023-08-02T15:53:41.997900",
     "status": "completed"
    },
    "tags": []
   },
   "outputs": [
    {
     "data": {
      "text/plain": [
       "PassengerId       0\n",
       "HomePlanet       87\n",
       "CryoSleep        93\n",
       "Cabin           100\n",
       "Destination      92\n",
       "Age              91\n",
       "VIP              93\n",
       "RoomService      82\n",
       "FoodCourt       106\n",
       "ShoppingMall     98\n",
       "Spa             101\n",
       "VRDeck           80\n",
       "Name             94\n",
       "dtype: int64"
      ]
     },
     "execution_count": 7,
     "metadata": {},
     "output_type": "execute_result"
    }
   ],
   "source": [
    "test.isna().sum()"
   ]
  },
  {
   "cell_type": "markdown",
   "id": "377cf3de",
   "metadata": {
    "papermill": {
     "duration": 0.00938,
     "end_time": "2023-08-02T15:53:42.051909",
     "exception": false,
     "start_time": "2023-08-02T15:53:42.042529",
     "status": "completed"
    },
    "tags": []
   },
   "source": [
    "### unique values in all the features"
   ]
  },
  {
   "cell_type": "code",
   "execution_count": 8,
   "id": "84a94268",
   "metadata": {
    "execution": {
     "iopub.execute_input": "2023-08-02T15:53:42.073287Z",
     "iopub.status.busy": "2023-08-02T15:53:42.072783Z",
     "iopub.status.idle": "2023-08-02T15:53:42.094957Z",
     "shell.execute_reply": "2023-08-02T15:53:42.094014Z"
    },
    "papermill": {
     "duration": 0.03654,
     "end_time": "2023-08-02T15:53:42.098058",
     "exception": false,
     "start_time": "2023-08-02T15:53:42.061518",
     "status": "completed"
    },
    "tags": []
   },
   "outputs": [
    {
     "name": "stdout",
     "output_type": "stream",
     "text": [
      "PassengerId\n",
      "['0001_01' '0002_01' '0003_01' ... '9279_01' '9280_01' '9280_02']\n",
      "HomePlanet\n",
      "['Europa' 'Earth' 'Mars' nan]\n",
      "CryoSleep\n",
      "[False True nan]\n",
      "Cabin\n",
      "['B/0/P' 'F/0/S' 'A/0/S' ... 'G/1499/S' 'G/1500/S' 'E/608/S']\n",
      "Destination\n",
      "['TRAPPIST-1e' 'PSO J318.5-22' '55 Cancri e' nan]\n",
      "Age\n",
      "[39. 24. 58. 33. 16. 44. 26. 28. 35. 14. 34. 45. 32. 48. 31. 27.  0.  1.\n",
      " 49. 29. 10.  7. 21. 62. 15. 43. 47.  2. 20. 23. 30. 17. 55.  4. 19. 56.\n",
      " nan 25. 38. 36. 22. 18. 42. 37. 13.  8. 40.  3. 54.  9.  6. 64. 67. 61.\n",
      " 50. 41. 57. 11. 52. 51. 46. 60. 63. 59.  5. 79. 68. 74. 12. 53. 65. 71.\n",
      " 75. 70. 76. 78. 73. 66. 69. 72. 77.]\n",
      "VIP\n",
      "[False True nan]\n",
      "RoomService\n",
      "[   0.  109.   43. ... 1569. 8586.  745.]\n",
      "FoodCourt\n",
      "[   0.    9. 3576. ... 3208. 6819. 4688.]\n",
      "ShoppingMall\n",
      "[   0.   25.  371. ... 1085.  510. 1872.]\n",
      "Spa\n",
      "[   0.  549. 6715. ... 2868. 1107. 1643.]\n",
      "VRDeck\n",
      "[   0.   44.   49. ... 1164.  971. 3235.]\n",
      "Name\n",
      "['Maham Ofracculy' 'Juanna Vines' 'Altark Susent' ... 'Fayey Connon'\n",
      " 'Celeon Hontichre' 'Propsh Hontichre']\n",
      "Transported\n",
      "[False  True]\n"
     ]
    }
   ],
   "source": [
    "for i in train.columns:\n",
    "    print(i)\n",
    "    print(train[i].unique())"
   ]
  },
  {
   "cell_type": "code",
   "execution_count": 9,
   "id": "de240312",
   "metadata": {
    "execution": {
     "iopub.execute_input": "2023-08-02T15:53:42.119436Z",
     "iopub.status.busy": "2023-08-02T15:53:42.118923Z",
     "iopub.status.idle": "2023-08-02T15:53:42.128046Z",
     "shell.execute_reply": "2023-08-02T15:53:42.126702Z"
    },
    "papermill": {
     "duration": 0.022763,
     "end_time": "2023-08-02T15:53:42.130571",
     "exception": false,
     "start_time": "2023-08-02T15:53:42.107808",
     "status": "completed"
    },
    "tags": []
   },
   "outputs": [
    {
     "data": {
      "text/plain": [
       "Index(['PassengerId', 'HomePlanet', 'CryoSleep', 'Cabin', 'Destination', 'Age',\n",
       "       'VIP', 'RoomService', 'FoodCourt', 'ShoppingMall', 'Spa', 'VRDeck',\n",
       "       'Name', 'Transported'],\n",
       "      dtype='object')"
      ]
     },
     "execution_count": 9,
     "metadata": {},
     "output_type": "execute_result"
    }
   ],
   "source": [
    "train.columns"
   ]
  },
  {
   "cell_type": "markdown",
   "id": "1971fb90",
   "metadata": {
    "papermill": {
     "duration": 0.009776,
     "end_time": "2023-08-02T15:53:42.150316",
     "exception": false,
     "start_time": "2023-08-02T15:53:42.140540",
     "status": "completed"
    },
    "tags": []
   },
   "source": [
    "## Distribution plots for numerical variables"
   ]
  },
  {
   "cell_type": "code",
   "execution_count": 10,
   "id": "93f76f54",
   "metadata": {
    "execution": {
     "iopub.execute_input": "2023-08-02T15:53:42.172180Z",
     "iopub.status.busy": "2023-08-02T15:53:42.171666Z",
     "iopub.status.idle": "2023-08-02T15:53:44.931208Z",
     "shell.execute_reply": "2023-08-02T15:53:44.930290Z"
    },
    "papermill": {
     "duration": 2.773055,
     "end_time": "2023-08-02T15:53:44.933581",
     "exception": false,
     "start_time": "2023-08-02T15:53:42.160526",
     "status": "completed"
    },
    "tags": []
   },
   "outputs": [
    {
     "data": {
      "text/plain": [
       "<Axes: xlabel='FoodCourt', ylabel='Count'>"
      ]
     },
     "execution_count": 10,
     "metadata": {},
     "output_type": "execute_result"
    },
    {
     "data": {
      "image/png": "[encoded data removed]",
      "text/plain": [
       "<Figure size 2000x500 with 6 Axes>"
      ]
     },
     "metadata": {},
     "output_type": "display_data"
    }
   ],
   "source": [
    "fig, ax = plt.subplots(3,2, figsize=(20, 5))\n",
    "sns.histplot(train['Age'], kde=True, ax = ax[0][0])\n",
    "sns.histplot(train['RoomService'], kde=True,bins=100, ax = ax[0][1])\n",
    "sns.histplot(train['ShoppingMall'], kde=True,bins=100, ax = ax[1][0])\n",
    "sns.histplot(train['Spa'], kde=True,bins=100, ax = ax[1][1])\n",
    "sns.histplot(train['VRDeck'], kde=True,bins=100, ax = ax[2][0])\n",
    "sns.histplot(train['FoodCourt'], kde=True,bins=100, ax = ax[2][1])\n",
    "\n"
   ]
  },
  {
   "cell_type": "code",
   "execution_count": 11,
   "id": "9c688c91",
   "metadata": {
    "execution": {
     "iopub.execute_input": "2023-08-02T15:53:44.958348Z",
     "iopub.status.busy": "2023-08-02T15:53:44.957678Z",
     "iopub.status.idle": "2023-08-02T15:53:45.309914Z",
     "shell.execute_reply": "2023-08-02T15:53:45.308686Z"
    },
    "papermill": {
     "duration": 0.367816,
     "end_time": "2023-08-02T15:53:45.312698",
     "exception": false,
     "start_time": "2023-08-02T15:53:44.944882",
     "status": "completed"
    },
    "tags": []
   },
   "outputs": [
    {
     "data": {
      "text/plain": [
       "<Axes: xlabel='HomePlanet', ylabel='Spa'>"
      ]
     },
     "execution_count": 11,
     "metadata": {},
     "output_type": "execute_result"
    },
    {
     "data": {
      "image/png": "[encoded data removed]",
      "text/plain": [
       "<Figure size 1500x1000 with 1 Axes>"
      ]
     },
     "metadata": {},
     "output_type": "display_data"
    }
   ],
   "source": [
    "plt.figure(figsize=(15, 10))\n",
    "sns.violinplot(data=train, x='HomePlanet', y='Spa')"
   ]
  },
  {
   "cell_type": "code",
   "execution_count": 12,
   "id": "7a4561b6",
   "metadata": {
    "execution": {
     "iopub.execute_input": "2023-08-02T15:53:45.338721Z",
     "iopub.status.busy": "2023-08-02T15:53:45.338324Z",
     "iopub.status.idle": "2023-08-02T15:53:45.865774Z",
     "shell.execute_reply": "2023-08-02T15:53:45.864410Z"
    },
    "papermill": {
     "duration": 0.543678,
     "end_time": "2023-08-02T15:53:45.868569",
     "exception": false,
     "start_time": "2023-08-02T15:53:45.324891",
     "status": "completed"
    },
    "tags": []
   },
   "outputs": [
    {
     "data": {
      "text/plain": [
       "<Axes: >"
      ]
     },
     "execution_count": 12,
     "metadata": {},
     "output_type": "execute_result"
    },
    {
     "data": {
      "image/png": "[encoded data removed]",
      "text/plain": [
       "<Figure size 640x480 with 2 Axes>"
      ]
     },
     "metadata": {},
     "output_type": "display_data"
    }
   ],
   "source": [
    "train_numeric = train.select_dtypes(include='float64')\n",
    "sns.heatmap(train_numeric.corr(), annot=True)"
   ]
  },
  {
   "cell_type": "code",
   "execution_count": 13,
   "id": "4ac1fbd2",
   "metadata": {
    "execution": {
     "iopub.execute_input": "2023-08-02T15:53:45.896669Z",
     "iopub.status.busy": "2023-08-02T15:53:45.895890Z",
     "iopub.status.idle": "2023-08-02T15:53:46.365245Z",
     "shell.execute_reply": "2023-08-02T15:53:46.364150Z"
    },
    "papermill": {
     "duration": 0.486054,
     "end_time": "2023-08-02T15:53:46.367798",
     "exception": false,
     "start_time": "2023-08-02T15:53:45.881744",
     "status": "completed"
    },
    "tags": []
   },
   "outputs": [
    {
     "data": {
      "text/plain": [
       "<Axes: >"
      ]
     },
     "execution_count": 13,
     "metadata": {},
     "output_type": "execute_result"
    },
    {
     "data": {
      "image/png": "[encoded data removed]",
      "text/plain": [
       "<Figure size 640x480 with 2 Axes>"
      ]
     },
     "metadata": {},
     "output_type": "display_data"
    }
   ],
   "source": [
    "mask = np.triu(np.ones_like(train_numeric.corr()))\n",
    "sns.heatmap(train_numeric.corr(), annot=True, mask = mask, vmin=-1, vmax=1)\n"
   ]
  },
  {
   "cell_type": "code",
   "execution_count": 14,
   "id": "71a3473d",
   "metadata": {
    "execution": {
     "iopub.execute_input": "2023-08-02T15:53:46.398585Z",
     "iopub.status.busy": "2023-08-02T15:53:46.397769Z",
     "iopub.status.idle": "2023-08-02T15:53:46.447001Z",
     "shell.execute_reply": "2023-08-02T15:53:46.446151Z"
    },
    "papermill": {
     "duration": 0.067477,
     "end_time": "2023-08-02T15:53:46.449475",
     "exception": false,
     "start_time": "2023-08-02T15:53:46.381998",
     "status": "completed"
    },
    "tags": []
   },
   "outputs": [
    {
     "data": {
      "text/html": [
       "<div>\n",
       "<style scoped>\n",
       "    .dataframe tbody tr th:only-of-type {\n",
       "        vertical-align: middle;\n",
       "    }\n",
       "\n",
       "    .dataframe tbody tr th {\n",
       "        vertical-align: top;\n",
       "    }\n",
       "\n",
       "    .dataframe thead th {\n",
       "        text-align: right;\n",
       "    }\n",
       "</style>\n",
       "<table border=\"1\" class=\"dataframe\">\n",
       "  <thead>\n",
       "    <tr style=\"text-align: right;\">\n",
       "      <th></th>\n",
       "      <th>Age</th>\n",
       "      <th>RoomService</th>\n",
       "      <th>FoodCourt</th>\n",
       "      <th>ShoppingMall</th>\n",
       "      <th>Spa</th>\n",
       "      <th>VRDeck</th>\n",
       "      <th>HomePlanet_Earth</th>\n",
       "      <th>HomePlanet_Europa</th>\n",
       "      <th>HomePlanet_Mars</th>\n",
       "      <th>CryoSleep_False</th>\n",
       "      <th>CryoSleep_True</th>\n",
       "      <th>Destination_55 Cancri e</th>\n",
       "      <th>Destination_PSO J318.5-22</th>\n",
       "      <th>Destination_TRAPPIST-1e</th>\n",
       "      <th>VIP_False</th>\n",
       "      <th>VIP_True</th>\n",
       "    </tr>\n",
       "  </thead>\n",
       "  <tbody>\n",
       "    <tr>\n",
       "      <th>0</th>\n",
       "      <td>27.0</td>\n",
       "      <td>0.0</td>\n",
       "      <td>0.0</td>\n",
       "      <td>0.0</td>\n",
       "      <td>0.0</td>\n",
       "      <td>0.0</td>\n",
       "      <td>1</td>\n",
       "      <td>0</td>\n",
       "      <td>0</td>\n",
       "      <td>0</td>\n",
       "      <td>1</td>\n",
       "      <td>0</td>\n",
       "      <td>0</td>\n",
       "      <td>1</td>\n",
       "      <td>1</td>\n",
       "      <td>0</td>\n",
       "    </tr>\n",
       "    <tr>\n",
       "      <th>1</th>\n",
       "      <td>19.0</td>\n",
       "      <td>0.0</td>\n",
       "      <td>9.0</td>\n",
       "      <td>0.0</td>\n",
       "      <td>2823.0</td>\n",
       "      <td>0.0</td>\n",
       "      <td>1</td>\n",
       "      <td>0</td>\n",
       "      <td>0</td>\n",
       "      <td>1</td>\n",
       "      <td>0</td>\n",
       "      <td>0</td>\n",
       "      <td>0</td>\n",
       "      <td>1</td>\n",
       "      <td>1</td>\n",
       "      <td>0</td>\n",
       "    </tr>\n",
       "    <tr>\n",
       "      <th>2</th>\n",
       "      <td>31.0</td>\n",
       "      <td>0.0</td>\n",
       "      <td>0.0</td>\n",
       "      <td>0.0</td>\n",
       "      <td>0.0</td>\n",
       "      <td>0.0</td>\n",
       "      <td>0</td>\n",
       "      <td>1</td>\n",
       "      <td>0</td>\n",
       "      <td>0</td>\n",
       "      <td>1</td>\n",
       "      <td>1</td>\n",
       "      <td>0</td>\n",
       "      <td>0</td>\n",
       "      <td>1</td>\n",
       "      <td>0</td>\n",
       "    </tr>\n",
       "    <tr>\n",
       "      <th>3</th>\n",
       "      <td>38.0</td>\n",
       "      <td>0.0</td>\n",
       "      <td>6652.0</td>\n",
       "      <td>0.0</td>\n",
       "      <td>181.0</td>\n",
       "      <td>585.0</td>\n",
       "      <td>0</td>\n",
       "      <td>1</td>\n",
       "      <td>0</td>\n",
       "      <td>1</td>\n",
       "      <td>0</td>\n",
       "      <td>0</td>\n",
       "      <td>0</td>\n",
       "      <td>1</td>\n",
       "      <td>1</td>\n",
       "      <td>0</td>\n",
       "    </tr>\n",
       "    <tr>\n",
       "      <th>4</th>\n",
       "      <td>20.0</td>\n",
       "      <td>10.0</td>\n",
       "      <td>0.0</td>\n",
       "      <td>635.0</td>\n",
       "      <td>0.0</td>\n",
       "      <td>0.0</td>\n",
       "      <td>1</td>\n",
       "      <td>0</td>\n",
       "      <td>0</td>\n",
       "      <td>1</td>\n",
       "      <td>0</td>\n",
       "      <td>0</td>\n",
       "      <td>0</td>\n",
       "      <td>1</td>\n",
       "      <td>1</td>\n",
       "      <td>0</td>\n",
       "    </tr>\n",
       "    <tr>\n",
       "      <th>...</th>\n",
       "      <td>...</td>\n",
       "      <td>...</td>\n",
       "      <td>...</td>\n",
       "      <td>...</td>\n",
       "      <td>...</td>\n",
       "      <td>...</td>\n",
       "      <td>...</td>\n",
       "      <td>...</td>\n",
       "      <td>...</td>\n",
       "      <td>...</td>\n",
       "      <td>...</td>\n",
       "      <td>...</td>\n",
       "      <td>...</td>\n",
       "      <td>...</td>\n",
       "      <td>...</td>\n",
       "      <td>...</td>\n",
       "    </tr>\n",
       "    <tr>\n",
       "      <th>4272</th>\n",
       "      <td>34.0</td>\n",
       "      <td>0.0</td>\n",
       "      <td>0.0</td>\n",
       "      <td>0.0</td>\n",
       "      <td>0.0</td>\n",
       "      <td>0.0</td>\n",
       "      <td>1</td>\n",
       "      <td>0</td>\n",
       "      <td>0</td>\n",
       "      <td>0</td>\n",
       "      <td>1</td>\n",
       "      <td>0</td>\n",
       "      <td>0</td>\n",
       "      <td>1</td>\n",
       "      <td>1</td>\n",
       "      <td>0</td>\n",
       "    </tr>\n",
       "    <tr>\n",
       "      <th>4273</th>\n",
       "      <td>42.0</td>\n",
       "      <td>0.0</td>\n",
       "      <td>847.0</td>\n",
       "      <td>17.0</td>\n",
       "      <td>10.0</td>\n",
       "      <td>144.0</td>\n",
       "      <td>1</td>\n",
       "      <td>0</td>\n",
       "      <td>0</td>\n",
       "      <td>1</td>\n",
       "      <td>0</td>\n",
       "      <td>0</td>\n",
       "      <td>0</td>\n",
       "      <td>1</td>\n",
       "      <td>1</td>\n",
       "      <td>0</td>\n",
       "    </tr>\n",
       "    <tr>\n",
       "      <th>4274</th>\n",
       "      <td>NaN</td>\n",
       "      <td>0.0</td>\n",
       "      <td>0.0</td>\n",
       "      <td>0.0</td>\n",
       "      <td>0.0</td>\n",
       "      <td>0.0</td>\n",
       "      <td>0</td>\n",
       "      <td>0</td>\n",
       "      <td>1</td>\n",
       "      <td>0</td>\n",
       "      <td>1</td>\n",
       "      <td>1</td>\n",
       "      <td>0</td>\n",
       "      <td>0</td>\n",
       "      <td>1</td>\n",
       "      <td>0</td>\n",
       "    </tr>\n",
       "    <tr>\n",
       "      <th>4275</th>\n",
       "      <td>NaN</td>\n",
       "      <td>0.0</td>\n",
       "      <td>2680.0</td>\n",
       "      <td>0.0</td>\n",
       "      <td>0.0</td>\n",
       "      <td>523.0</td>\n",
       "      <td>0</td>\n",
       "      <td>1</td>\n",
       "      <td>0</td>\n",
       "      <td>1</td>\n",
       "      <td>0</td>\n",
       "      <td>0</td>\n",
       "      <td>0</td>\n",
       "      <td>0</td>\n",
       "      <td>1</td>\n",
       "      <td>0</td>\n",
       "    </tr>\n",
       "    <tr>\n",
       "      <th>4276</th>\n",
       "      <td>43.0</td>\n",
       "      <td>0.0</td>\n",
       "      <td>0.0</td>\n",
       "      <td>0.0</td>\n",
       "      <td>0.0</td>\n",
       "      <td>0.0</td>\n",
       "      <td>1</td>\n",
       "      <td>0</td>\n",
       "      <td>0</td>\n",
       "      <td>0</td>\n",
       "      <td>1</td>\n",
       "      <td>0</td>\n",
       "      <td>1</td>\n",
       "      <td>0</td>\n",
       "      <td>1</td>\n",
       "      <td>0</td>\n",
       "    </tr>\n",
       "  </tbody>\n",
       "</table>\n",
       "<p>4277 rows × 16 columns</p>\n",
       "</div>"
      ],
      "text/plain": [
       "       Age  RoomService  FoodCourt  ShoppingMall     Spa  VRDeck  \\\n",
       "0     27.0          0.0        0.0           0.0     0.0     0.0   \n",
       "1     19.0          0.0        9.0           0.0  2823.0     0.0   \n",
       "2     31.0          0.0        0.0           0.0     0.0     0.0   \n",
       "3     38.0          0.0     6652.0           0.0   181.0   585.0   \n",
       "4     20.0         10.0        0.0         635.0     0.0     0.0   \n",
       "...    ...          ...        ...           ...     ...     ...   \n",
       "4272  34.0          0.0        0.0           0.0     0.0     0.0   \n",
       "4273  42.0          0.0      847.0          17.0    10.0   144.0   \n",
       "4274   NaN          0.0        0.0           0.0     0.0     0.0   \n",
       "4275   NaN          0.0     2680.0           0.0     0.0   523.0   \n",
       "4276  43.0          0.0        0.0           0.0     0.0     0.0   \n",
       "\n",
       "      HomePlanet_Earth  HomePlanet_Europa  HomePlanet_Mars  CryoSleep_False  \\\n",
       "0                    1                  0                0                0   \n",
       "1                    1                  0                0                1   \n",
       "2                    0                  1                0                0   \n",
       "3                    0                  1                0                1   \n",
       "4                    1                  0                0                1   \n",
       "...                ...                ...              ...              ...   \n",
       "4272                 1                  0                0                0   \n",
       "4273                 1                  0                0                1   \n",
       "4274                 0                  0                1                0   \n",
       "4275                 0                  1                0                1   \n",
       "4276                 1                  0                0                0   \n",
       "\n",
       "      CryoSleep_True  Destination_55 Cancri e  Destination_PSO J318.5-22  \\\n",
       "0                  1                        0                          0   \n",
       "1                  0                        0                          0   \n",
       "2                  1                        1                          0   \n",
       "3                  0                        0                          0   \n",
       "4                  0                        0                          0   \n",
       "...              ...                      ...                        ...   \n",
       "4272               1                        0                          0   \n",
       "4273               0                        0                          0   \n",
       "4274               1                        1                          0   \n",
       "4275               0                        0                          0   \n",
       "4276               1                        0                          1   \n",
       "\n",
       "      Destination_TRAPPIST-1e  VIP_False  VIP_True  \n",
       "0                           1          1         0  \n",
       "1                           1          1         0  \n",
       "2                           0          1         0  \n",
       "3                           1          1         0  \n",
       "4                           1          1         0  \n",
       "...                       ...        ...       ...  \n",
       "4272                        1          1         0  \n",
       "4273                        1          1         0  \n",
       "4274                        0          1         0  \n",
       "4275                        0          1         0  \n",
       "4276                        0          1         0  \n",
       "\n",
       "[4277 rows x 16 columns]"
      ]
     },
     "execution_count": 14,
     "metadata": {},
     "output_type": "execute_result"
    }
   ],
   "source": [
    "X = train.drop(['Transported', 'PassengerId', 'Name', 'Cabin'], axis = 1)\n",
    "X_encoded = pd.get_dummies(X)\n",
    "X_encoded\n",
    "\n",
    "X_test = test.drop(['PassengerId', 'Name', 'Cabin'], axis = 1)\n",
    "X_test_encoded = pd.get_dummies(X_test)\n",
    "X_test_encoded"
   ]
  },
  {
   "cell_type": "code",
   "execution_count": 15,
   "id": "c821df93",
   "metadata": {
    "execution": {
     "iopub.execute_input": "2023-08-02T15:53:46.480274Z",
     "iopub.status.busy": "2023-08-02T15:53:46.479829Z",
     "iopub.status.idle": "2023-08-02T15:53:46.509021Z",
     "shell.execute_reply": "2023-08-02T15:53:46.507886Z"
    },
    "papermill": {
     "duration": 0.047454,
     "end_time": "2023-08-02T15:53:46.511725",
     "exception": false,
     "start_time": "2023-08-02T15:53:46.464271",
     "status": "completed"
    },
    "tags": []
   },
   "outputs": [
    {
     "data": {
      "text/html": [
       "<div>\n",
       "<style scoped>\n",
       "    .dataframe tbody tr th:only-of-type {\n",
       "        vertical-align: middle;\n",
       "    }\n",
       "\n",
       "    .dataframe tbody tr th {\n",
       "        vertical-align: top;\n",
       "    }\n",
       "\n",
       "    .dataframe thead th {\n",
       "        text-align: right;\n",
       "    }\n",
       "</style>\n",
       "<table border=\"1\" class=\"dataframe\">\n",
       "  <thead>\n",
       "    <tr style=\"text-align: right;\">\n",
       "      <th></th>\n",
       "      <th>Age</th>\n",
       "      <th>RoomService</th>\n",
       "      <th>FoodCourt</th>\n",
       "      <th>ShoppingMall</th>\n",
       "      <th>Spa</th>\n",
       "      <th>VRDeck</th>\n",
       "      <th>HomePlanet_Earth</th>\n",
       "      <th>HomePlanet_Europa</th>\n",
       "      <th>HomePlanet_Mars</th>\n",
       "      <th>CryoSleep_False</th>\n",
       "      <th>CryoSleep_True</th>\n",
       "      <th>Destination_55 Cancri e</th>\n",
       "      <th>Destination_PSO J318.5-22</th>\n",
       "      <th>Destination_TRAPPIST-1e</th>\n",
       "      <th>VIP_False</th>\n",
       "      <th>VIP_True</th>\n",
       "    </tr>\n",
       "  </thead>\n",
       "  <tbody>\n",
       "    <tr>\n",
       "      <th>0</th>\n",
       "      <td>39.0</td>\n",
       "      <td>0.0</td>\n",
       "      <td>0.0</td>\n",
       "      <td>0.0</td>\n",
       "      <td>0.0</td>\n",
       "      <td>0.0</td>\n",
       "      <td>0</td>\n",
       "      <td>1</td>\n",
       "      <td>0</td>\n",
       "      <td>1</td>\n",
       "      <td>0</td>\n",
       "      <td>0</td>\n",
       "      <td>0</td>\n",
       "      <td>1</td>\n",
       "      <td>1</td>\n",
       "      <td>0</td>\n",
       "    </tr>\n",
       "    <tr>\n",
       "      <th>1</th>\n",
       "      <td>24.0</td>\n",
       "      <td>109.0</td>\n",
       "      <td>9.0</td>\n",
       "      <td>25.0</td>\n",
       "      <td>549.0</td>\n",
       "      <td>44.0</td>\n",
       "      <td>1</td>\n",
       "      <td>0</td>\n",
       "      <td>0</td>\n",
       "      <td>1</td>\n",
       "      <td>0</td>\n",
       "      <td>0</td>\n",
       "      <td>0</td>\n",
       "      <td>1</td>\n",
       "      <td>1</td>\n",
       "      <td>0</td>\n",
       "    </tr>\n",
       "    <tr>\n",
       "      <th>2</th>\n",
       "      <td>58.0</td>\n",
       "      <td>43.0</td>\n",
       "      <td>3576.0</td>\n",
       "      <td>0.0</td>\n",
       "      <td>6715.0</td>\n",
       "      <td>49.0</td>\n",
       "      <td>0</td>\n",
       "      <td>1</td>\n",
       "      <td>0</td>\n",
       "      <td>1</td>\n",
       "      <td>0</td>\n",
       "      <td>0</td>\n",
       "      <td>0</td>\n",
       "      <td>1</td>\n",
       "      <td>0</td>\n",
       "      <td>1</td>\n",
       "    </tr>\n",
       "    <tr>\n",
       "      <th>3</th>\n",
       "      <td>33.0</td>\n",
       "      <td>0.0</td>\n",
       "      <td>1283.0</td>\n",
       "      <td>371.0</td>\n",
       "      <td>3329.0</td>\n",
       "      <td>193.0</td>\n",
       "      <td>0</td>\n",
       "      <td>1</td>\n",
       "      <td>0</td>\n",
       "      <td>1</td>\n",
       "      <td>0</td>\n",
       "      <td>0</td>\n",
       "      <td>0</td>\n",
       "      <td>1</td>\n",
       "      <td>1</td>\n",
       "      <td>0</td>\n",
       "    </tr>\n",
       "    <tr>\n",
       "      <th>4</th>\n",
       "      <td>16.0</td>\n",
       "      <td>303.0</td>\n",
       "      <td>70.0</td>\n",
       "      <td>151.0</td>\n",
       "      <td>565.0</td>\n",
       "      <td>2.0</td>\n",
       "      <td>1</td>\n",
       "      <td>0</td>\n",
       "      <td>0</td>\n",
       "      <td>1</td>\n",
       "      <td>0</td>\n",
       "      <td>0</td>\n",
       "      <td>0</td>\n",
       "      <td>1</td>\n",
       "      <td>1</td>\n",
       "      <td>0</td>\n",
       "    </tr>\n",
       "    <tr>\n",
       "      <th>...</th>\n",
       "      <td>...</td>\n",
       "      <td>...</td>\n",
       "      <td>...</td>\n",
       "      <td>...</td>\n",
       "      <td>...</td>\n",
       "      <td>...</td>\n",
       "      <td>...</td>\n",
       "      <td>...</td>\n",
       "      <td>...</td>\n",
       "      <td>...</td>\n",
       "      <td>...</td>\n",
       "      <td>...</td>\n",
       "      <td>...</td>\n",
       "      <td>...</td>\n",
       "      <td>...</td>\n",
       "      <td>...</td>\n",
       "    </tr>\n",
       "    <tr>\n",
       "      <th>8688</th>\n",
       "      <td>41.0</td>\n",
       "      <td>0.0</td>\n",
       "      <td>6819.0</td>\n",
       "      <td>0.0</td>\n",
       "      <td>1643.0</td>\n",
       "      <td>74.0</td>\n",
       "      <td>0</td>\n",
       "      <td>1</td>\n",
       "      <td>0</td>\n",
       "      <td>1</td>\n",
       "      <td>0</td>\n",
       "      <td>1</td>\n",
       "      <td>0</td>\n",
       "      <td>0</td>\n",
       "      <td>0</td>\n",
       "      <td>1</td>\n",
       "    </tr>\n",
       "    <tr>\n",
       "      <th>8689</th>\n",
       "      <td>18.0</td>\n",
       "      <td>0.0</td>\n",
       "      <td>0.0</td>\n",
       "      <td>0.0</td>\n",
       "      <td>0.0</td>\n",
       "      <td>0.0</td>\n",
       "      <td>1</td>\n",
       "      <td>0</td>\n",
       "      <td>0</td>\n",
       "      <td>0</td>\n",
       "      <td>1</td>\n",
       "      <td>0</td>\n",
       "      <td>1</td>\n",
       "      <td>0</td>\n",
       "      <td>1</td>\n",
       "      <td>0</td>\n",
       "    </tr>\n",
       "    <tr>\n",
       "      <th>8690</th>\n",
       "      <td>26.0</td>\n",
       "      <td>0.0</td>\n",
       "      <td>0.0</td>\n",
       "      <td>1872.0</td>\n",
       "      <td>1.0</td>\n",
       "      <td>0.0</td>\n",
       "      <td>1</td>\n",
       "      <td>0</td>\n",
       "      <td>0</td>\n",
       "      <td>1</td>\n",
       "      <td>0</td>\n",
       "      <td>0</td>\n",
       "      <td>0</td>\n",
       "      <td>1</td>\n",
       "      <td>1</td>\n",
       "      <td>0</td>\n",
       "    </tr>\n",
       "    <tr>\n",
       "      <th>8691</th>\n",
       "      <td>32.0</td>\n",
       "      <td>0.0</td>\n",
       "      <td>1049.0</td>\n",
       "      <td>0.0</td>\n",
       "      <td>353.0</td>\n",
       "      <td>3235.0</td>\n",
       "      <td>0</td>\n",
       "      <td>1</td>\n",
       "      <td>0</td>\n",
       "      <td>1</td>\n",
       "      <td>0</td>\n",
       "      <td>1</td>\n",
       "      <td>0</td>\n",
       "      <td>0</td>\n",
       "      <td>1</td>\n",
       "      <td>0</td>\n",
       "    </tr>\n",
       "    <tr>\n",
       "      <th>8692</th>\n",
       "      <td>44.0</td>\n",
       "      <td>126.0</td>\n",
       "      <td>4688.0</td>\n",
       "      <td>0.0</td>\n",
       "      <td>0.0</td>\n",
       "      <td>12.0</td>\n",
       "      <td>0</td>\n",
       "      <td>1</td>\n",
       "      <td>0</td>\n",
       "      <td>1</td>\n",
       "      <td>0</td>\n",
       "      <td>0</td>\n",
       "      <td>0</td>\n",
       "      <td>1</td>\n",
       "      <td>1</td>\n",
       "      <td>0</td>\n",
       "    </tr>\n",
       "  </tbody>\n",
       "</table>\n",
       "<p>8693 rows × 16 columns</p>\n",
       "</div>"
      ],
      "text/plain": [
       "       Age  RoomService  FoodCourt  ShoppingMall     Spa  VRDeck  \\\n",
       "0     39.0          0.0        0.0           0.0     0.0     0.0   \n",
       "1     24.0        109.0        9.0          25.0   549.0    44.0   \n",
       "2     58.0         43.0     3576.0           0.0  6715.0    49.0   \n",
       "3     33.0          0.0     1283.0         371.0  3329.0   193.0   \n",
       "4     16.0        303.0       70.0         151.0   565.0     2.0   \n",
       "...    ...          ...        ...           ...     ...     ...   \n",
       "8688  41.0          0.0     6819.0           0.0  1643.0    74.0   \n",
       "8689  18.0          0.0        0.0           0.0     0.0     0.0   \n",
       "8690  26.0          0.0        0.0        1872.0     1.0     0.0   \n",
       "8691  32.0          0.0     1049.0           0.0   353.0  3235.0   \n",
       "8692  44.0        126.0     4688.0           0.0     0.0    12.0   \n",
       "\n",
       "      HomePlanet_Earth  HomePlanet_Europa  HomePlanet_Mars  CryoSleep_False  \\\n",
       "0                    0                  1                0                1   \n",
       "1                    1                  0                0                1   \n",
       "2                    0                  1                0                1   \n",
       "3                    0                  1                0                1   \n",
       "4                    1                  0                0                1   \n",
       "...                ...                ...              ...              ...   \n",
       "8688                 0                  1                0                1   \n",
       "8689                 1                  0                0                0   \n",
       "8690                 1                  0                0                1   \n",
       "8691                 0                  1                0                1   \n",
       "8692                 0                  1                0                1   \n",
       "\n",
       "      CryoSleep_True  Destination_55 Cancri e  Destination_PSO J318.5-22  \\\n",
       "0                  0                        0                          0   \n",
       "1                  0                        0                          0   \n",
       "2                  0                        0                          0   \n",
       "3                  0                        0                          0   \n",
       "4                  0                        0                          0   \n",
       "...              ...                      ...                        ...   \n",
       "8688               0                        1                          0   \n",
       "8689               1                        0                          1   \n",
       "8690               0                        0                          0   \n",
       "8691               0                        1                          0   \n",
       "8692               0                        0                          0   \n",
       "\n",
       "      Destination_TRAPPIST-1e  VIP_False  VIP_True  \n",
       "0                           1          1         0  \n",
       "1                           1          1         0  \n",
       "2                           1          0         1  \n",
       "3                           1          1         0  \n",
       "4                           1          1         0  \n",
       "...                       ...        ...       ...  \n",
       "8688                        0          0         1  \n",
       "8689                        0          1         0  \n",
       "8690                        1          1         0  \n",
       "8691                        0          1         0  \n",
       "8692                        1          1         0  \n",
       "\n",
       "[8693 rows x 16 columns]"
      ]
     },
     "execution_count": 15,
     "metadata": {},
     "output_type": "execute_result"
    }
   ],
   "source": [
    "X_encoded\n"
   ]
  },
  {
   "cell_type": "code",
   "execution_count": 16,
   "id": "3900727e",
   "metadata": {
    "execution": {
     "iopub.execute_input": "2023-08-02T15:53:46.544220Z",
     "iopub.status.busy": "2023-08-02T15:53:46.542968Z",
     "iopub.status.idle": "2023-08-02T15:53:46.549510Z",
     "shell.execute_reply": "2023-08-02T15:53:46.548675Z"
    },
    "papermill": {
     "duration": 0.025058,
     "end_time": "2023-08-02T15:53:46.551966",
     "exception": false,
     "start_time": "2023-08-02T15:53:46.526908",
     "status": "completed"
    },
    "tags": []
   },
   "outputs": [],
   "source": [
    "lb = LabelEncoder()\n",
    "y = lb.fit_transform(train['Transported'])"
   ]
  },
  {
   "cell_type": "code",
   "execution_count": 17,
   "id": "140b6b59",
   "metadata": {
    "execution": {
     "iopub.execute_input": "2023-08-02T15:53:46.583476Z",
     "iopub.status.busy": "2023-08-02T15:53:46.582699Z",
     "iopub.status.idle": "2023-08-02T15:53:46.591036Z",
     "shell.execute_reply": "2023-08-02T15:53:46.589842Z"
    },
    "papermill": {
     "duration": 0.026921,
     "end_time": "2023-08-02T15:53:46.593448",
     "exception": false,
     "start_time": "2023-08-02T15:53:46.566527",
     "status": "completed"
    },
    "tags": []
   },
   "outputs": [
    {
     "data": {
      "text/plain": [
       "{'bootstrap': True,\n",
       " 'ccp_alpha': 0.0,\n",
       " 'class_weight': None,\n",
       " 'criterion': 'gini',\n",
       " 'max_depth': None,\n",
       " 'max_features': 'sqrt',\n",
       " 'max_leaf_nodes': None,\n",
       " 'max_samples': None,\n",
       " 'min_impurity_decrease': 0.0,\n",
       " 'min_samples_leaf': 1,\n",
       " 'min_samples_split': 2,\n",
       " 'min_weight_fraction_leaf': 0.0,\n",
       " 'n_estimators': 100,\n",
       " 'n_jobs': None,\n",
       " 'oob_score': False,\n",
       " 'random_state': None,\n",
       " 'verbose': 0,\n",
       " 'warm_start': False}"
      ]
     },
     "execution_count": 17,
     "metadata": {},
     "output_type": "execute_result"
    }
   ],
   "source": [
    "model = RandomForestClassifier()\n",
    "model.get_params()"
   ]
  },
  {
   "cell_type": "code",
   "execution_count": 18,
   "id": "486f1491",
   "metadata": {
    "execution": {
     "iopub.execute_input": "2023-08-02T15:53:46.625981Z",
     "iopub.status.busy": "2023-08-02T15:53:46.625320Z",
     "iopub.status.idle": "2023-08-02T15:54:11.594675Z",
     "shell.execute_reply": "2023-08-02T15:54:11.593427Z"
    },
    "papermill": {
     "duration": 24.988988,
     "end_time": "2023-08-02T15:54:11.597211",
     "exception": false,
     "start_time": "2023-08-02T15:53:46.608223",
     "status": "completed"
    },
    "tags": []
   },
   "outputs": [
    {
     "name": "stdout",
     "output_type": "stream",
     "text": [
      "Fitting 5 folds for each of 10 candidates, totalling 50 fits\n",
      "[CV 1/5] END reg__max_depth=3, reg__min_samples_leaf=3, reg__min_samples_split=2, reg__n_estimators=150;, score=-0.504 total time=   0.7s\n",
      "[CV 2/5] END reg__max_depth=3, reg__min_samples_leaf=3, reg__min_samples_split=2, reg__n_estimators=150;, score=-0.521 total time=   0.8s\n",
      "[CV 3/5] END reg__max_depth=3, reg__min_samples_leaf=3, reg__min_samples_split=2, reg__n_estimators=150;, score=-0.516 total time=   0.7s\n",
      "[CV 4/5] END reg__max_depth=3, reg__min_samples_leaf=3, reg__min_samples_split=2, reg__n_estimators=150;, score=-0.515 total time=   0.7s\n",
      "[CV 5/5] END reg__max_depth=3, reg__min_samples_leaf=3, reg__min_samples_split=2, reg__n_estimators=150;, score=-0.526 total time=   0.7s\n",
      "[CV 1/5] END reg__max_depth=3, reg__min_samples_leaf=1, reg__min_samples_split=4, reg__n_estimators=50;, score=-0.507 total time=   0.3s\n",
      "[CV 2/5] END reg__max_depth=3, reg__min_samples_leaf=1, reg__min_samples_split=4, reg__n_estimators=50;, score=-0.526 total time=   0.3s\n",
      "[CV 3/5] END reg__max_depth=3, reg__min_samples_leaf=1, reg__min_samples_split=4, reg__n_estimators=50;, score=-0.514 total time=   0.3s\n",
      "[CV 4/5] END reg__max_depth=3, reg__min_samples_leaf=1, reg__min_samples_split=4, reg__n_estimators=50;, score=-0.513 total time=   0.3s\n",
      "[CV 5/5] END reg__max_depth=3, reg__min_samples_leaf=1, reg__min_samples_split=4, reg__n_estimators=50;, score=-0.524 total time=   0.3s\n",
      "[CV 1/5] END reg__max_depth=2, reg__min_samples_leaf=2, reg__min_samples_split=2, reg__n_estimators=100;, score=-0.535 total time=   0.5s\n",
      "[CV 2/5] END reg__max_depth=2, reg__min_samples_leaf=2, reg__min_samples_split=2, reg__n_estimators=100;, score=-0.552 total time=   0.5s\n",
      "[CV 3/5] END reg__max_depth=2, reg__min_samples_leaf=2, reg__min_samples_split=2, reg__n_estimators=100;, score=-0.548 total time=   0.5s\n",
      "[CV 4/5] END reg__max_depth=2, reg__min_samples_leaf=2, reg__min_samples_split=2, reg__n_estimators=100;, score=-0.546 total time=   0.5s\n",
      "[CV 5/5] END reg__max_depth=2, reg__min_samples_leaf=2, reg__min_samples_split=2, reg__n_estimators=100;, score=-0.558 total time=   0.5s\n",
      "[CV 1/5] END reg__max_depth=3, reg__min_samples_leaf=3, reg__min_samples_split=2, reg__n_estimators=50;, score=-0.508 total time=   0.3s\n",
      "[CV 2/5] END reg__max_depth=3, reg__min_samples_leaf=3, reg__min_samples_split=2, reg__n_estimators=50;, score=-0.523 total time=   0.3s\n",
      "[CV 3/5] END reg__max_depth=3, reg__min_samples_leaf=3, reg__min_samples_split=2, reg__n_estimators=50;, score=-0.516 total time=   0.3s\n",
      "[CV 4/5] END reg__max_depth=3, reg__min_samples_leaf=3, reg__min_samples_split=2, reg__n_estimators=50;, score=-0.511 total time=   0.3s\n",
      "[CV 5/5] END reg__max_depth=3, reg__min_samples_leaf=3, reg__min_samples_split=2, reg__n_estimators=50;, score=-0.526 total time=   0.3s\n",
      "[CV 1/5] END reg__max_depth=2, reg__min_samples_leaf=2, reg__min_samples_split=4, reg__n_estimators=50;, score=-0.537 total time=   0.2s\n",
      "[CV 2/5] END reg__max_depth=2, reg__min_samples_leaf=2, reg__min_samples_split=4, reg__n_estimators=50;, score=-0.548 total time=   0.2s\n",
      "[CV 3/5] END reg__max_depth=2, reg__min_samples_leaf=2, reg__min_samples_split=4, reg__n_estimators=50;, score=-0.544 total time=   0.2s\n",
      "[CV 4/5] END reg__max_depth=2, reg__min_samples_leaf=2, reg__min_samples_split=4, reg__n_estimators=50;, score=-0.546 total time=   0.3s\n",
      "[CV 5/5] END reg__max_depth=2, reg__min_samples_leaf=2, reg__min_samples_split=4, reg__n_estimators=50;, score=-0.560 total time=   0.2s\n",
      "[CV 1/5] END reg__max_depth=None, reg__min_samples_leaf=2, reg__min_samples_split=3, reg__n_estimators=50;, score=-0.437 total time=   0.5s\n",
      "[CV 2/5] END reg__max_depth=None, reg__min_samples_leaf=2, reg__min_samples_split=3, reg__n_estimators=50;, score=-0.469 total time=   0.5s\n",
      "[CV 3/5] END reg__max_depth=None, reg__min_samples_leaf=2, reg__min_samples_split=3, reg__n_estimators=50;, score=-0.462 total time=   0.5s\n",
      "[CV 4/5] END reg__max_depth=None, reg__min_samples_leaf=2, reg__min_samples_split=3, reg__n_estimators=50;, score=-0.450 total time=   0.5s\n",
      "[CV 5/5] END reg__max_depth=None, reg__min_samples_leaf=2, reg__min_samples_split=3, reg__n_estimators=50;, score=-0.453 total time=   0.5s\n",
      "[CV 1/5] END reg__max_depth=None, reg__min_samples_leaf=3, reg__min_samples_split=2, reg__n_estimators=50;, score=-0.430 total time=   0.5s\n",
      "[CV 2/5] END reg__max_depth=None, reg__min_samples_leaf=3, reg__min_samples_split=2, reg__n_estimators=50;, score=-0.460 total time=   0.5s\n",
      "[CV 3/5] END reg__max_depth=None, reg__min_samples_leaf=3, reg__min_samples_split=2, reg__n_estimators=50;, score=-0.448 total time=   0.5s\n",
      "[CV 4/5] END reg__max_depth=None, reg__min_samples_leaf=3, reg__min_samples_split=2, reg__n_estimators=50;, score=-0.438 total time=   0.5s\n",
      "[CV 5/5] END reg__max_depth=None, reg__min_samples_leaf=3, reg__min_samples_split=2, reg__n_estimators=50;, score=-0.449 total time=   0.5s\n",
      "[CV 1/5] END reg__max_depth=2, reg__min_samples_leaf=2, reg__min_samples_split=4, reg__n_estimators=150;, score=-0.536 total time=   0.7s\n",
      "[CV 2/5] END reg__max_depth=2, reg__min_samples_leaf=2, reg__min_samples_split=4, reg__n_estimators=150;, score=-0.550 total time=   0.7s\n",
      "[CV 3/5] END reg__max_depth=2, reg__min_samples_leaf=2, reg__min_samples_split=4, reg__n_estimators=150;, score=-0.545 total time=   0.7s\n",
      "[CV 4/5] END reg__max_depth=2, reg__min_samples_leaf=2, reg__min_samples_split=4, reg__n_estimators=150;, score=-0.545 total time=   0.7s\n",
      "[CV 5/5] END reg__max_depth=2, reg__min_samples_leaf=2, reg__min_samples_split=4, reg__n_estimators=150;, score=-0.558 total time=   0.7s\n",
      "[CV 1/5] END reg__max_depth=3, reg__min_samples_leaf=1, reg__min_samples_split=3, reg__n_estimators=100;, score=-0.506 total time=   0.5s\n",
      "[CV 2/5] END reg__max_depth=3, reg__min_samples_leaf=1, reg__min_samples_split=3, reg__n_estimators=100;, score=-0.520 total time=   0.5s\n",
      "[CV 3/5] END reg__max_depth=3, reg__min_samples_leaf=1, reg__min_samples_split=3, reg__n_estimators=100;, score=-0.519 total time=   0.5s\n",
      "[CV 4/5] END reg__max_depth=3, reg__min_samples_leaf=1, reg__min_samples_split=3, reg__n_estimators=100;, score=-0.516 total time=   0.5s\n",
      "[CV 5/5] END reg__max_depth=3, reg__min_samples_leaf=1, reg__min_samples_split=3, reg__n_estimators=100;, score=-0.524 total time=   0.5s\n",
      "[CV 1/5] END reg__max_depth=2, reg__min_samples_leaf=3, reg__min_samples_split=4, reg__n_estimators=150;, score=-0.536 total time=   0.7s\n",
      "[CV 2/5] END reg__max_depth=2, reg__min_samples_leaf=3, reg__min_samples_split=4, reg__n_estimators=150;, score=-0.550 total time=   0.7s\n",
      "[CV 3/5] END reg__max_depth=2, reg__min_samples_leaf=3, reg__min_samples_split=4, reg__n_estimators=150;, score=-0.546 total time=   0.7s\n",
      "[CV 4/5] END reg__max_depth=2, reg__min_samples_leaf=3, reg__min_samples_split=4, reg__n_estimators=150;, score=-0.544 total time=   0.7s\n",
      "[CV 5/5] END reg__max_depth=2, reg__min_samples_leaf=3, reg__min_samples_split=4, reg__n_estimators=150;, score=-0.558 total time=   0.7s\n"
     ]
    },
    {
     "data": {
      "text/html": [
       "<style>#sk-container-id-1 {color: black;background-color: white;}#sk-container-id-1 pre{padding: 0;}#sk-container-id-1 div.sk-toggleable {background-color: white;}#sk-container-id-1 label.sk-toggleable__label {cursor: pointer;display: block;width: 100%;margin-bottom: 0;padding: 0.3em;box-sizing: border-box;text-align: center;}#sk-container-id-1 label.sk-toggleable__label-arrow:before {content: \"▸\";float: left;margin-right: 0.25em;color: #696969;}#sk-container-id-1 label.sk-toggleable__label-arrow:hover:before {color: black;}#sk-container-id-1 div.sk-estimator:hover label.sk-toggleable__label-arrow:before {color: black;}#sk-container-id-1 div.sk-toggleable__content {max-height: 0;max-width: 0;overflow: hidden;text-align: left;background-color: #f0f8ff;}#sk-container-id-1 div.sk-toggleable__content pre {margin: 0.2em;color: black;border-radius: 0.25em;background-color: #f0f8ff;}#sk-container-id-1 input.sk-toggleable__control:checked~div.sk-toggleable__content {max-height: 200px;max-width: 100%;overflow: auto;}#sk-container-id-1 input.sk-toggleable__control:checked~label.sk-toggleable__label-arrow:before {content: \"▾\";}#sk-container-id-1 div.sk-estimator input.sk-toggleable__control:checked~label.sk-toggleable__label {background-color: #d4ebff;}#sk-container-id-1 div.sk-label input.sk-toggleable__control:checked~label.sk-toggleable__label {background-color: #d4ebff;}#sk-container-id-1 input.sk-hidden--visually {border: 0;clip: rect(1px 1px 1px 1px);clip: rect(1px, 1px, 1px, 1px);height: 1px;margin: -1px;overflow: hidden;padding: 0;position: absolute;width: 1px;}#sk-container-id-1 div.sk-estimator {font-family: monospace;background-color: #f0f8ff;border: 1px dotted black;border-radius: 0.25em;box-sizing: border-box;margin-bottom: 0.5em;}#sk-container-id-1 div.sk-estimator:hover {background-color: #d4ebff;}#sk-container-id-1 div.sk-parallel-item::after {content: \"\";width: 100%;border-bottom: 1px solid gray;flex-grow: 1;}#sk-container-id-1 div.sk-label:hover label.sk-toggleable__label {background-color: #d4ebff;}#sk-container-id-1 div.sk-serial::before {content: \"\";position: absolute;border-left: 1px solid gray;box-sizing: border-box;top: 0;bottom: 0;left: 50%;z-index: 0;}#sk-container-id-1 div.sk-serial {display: flex;flex-direction: column;align-items: center;background-color: white;padding-right: 0.2em;padding-left: 0.2em;position: relative;}#sk-container-id-1 div.sk-item {position: relative;z-index: 1;}#sk-container-id-1 div.sk-parallel {display: flex;align-items: stretch;justify-content: center;background-color: white;position: relative;}#sk-container-id-1 div.sk-item::before, #sk-container-id-1 div.sk-parallel-item::before {content: \"\";position: absolute;border-left: 1px solid gray;box-sizing: border-box;top: 0;bottom: 0;left: 50%;z-index: -1;}#sk-container-id-1 div.sk-parallel-item {display: flex;flex-direction: column;z-index: 1;position: relative;background-color: white;}#sk-container-id-1 div.sk-parallel-item:first-child::after {align-self: flex-end;width: 50%;}#sk-container-id-1 div.sk-parallel-item:last-child::after {align-self: flex-start;width: 50%;}#sk-container-id-1 div.sk-parallel-item:only-child::after {width: 0;}#sk-container-id-1 div.sk-dashed-wrapped {border: 1px dashed gray;margin: 0 0.4em 0.5em 0.4em;box-sizing: border-box;padding-bottom: 0.4em;background-color: white;}#sk-container-id-1 div.sk-label label {font-family: monospace;font-weight: bold;display: inline-block;line-height: 1.2em;}#sk-container-id-1 div.sk-label-container {text-align: center;}#sk-container-id-1 div.sk-container {/* jupyter's `normalize.less` sets `[hidden] { display: none; }` but bootstrap.min.css set `[hidden] { display: none !important; }` so we also need the `!important` here to be able to override the default hidden behavior on the sphinx rendered scikit-learn.org. See: https://github.com/scikit-learn/scikit-learn/issues/21755 */display: inline-block !important;position: relative;}#sk-container-id-1 div.sk-text-repr-fallback {display: none;}</style><div id=\"sk-container-id-1\" class=\"sk-top-container\"><div class=\"sk-text-repr-fallback\"><pre>RandomizedSearchCV(cv=StratifiedKFold(n_splits=5, random_state=23, shuffle=True),\n",
       "                   estimator=Pipeline(steps=[(&#x27;Imputer&#x27;, SimpleImputer()),\n",
       "                                             (&#x27;reg&#x27;,\n",
       "                                              RandomForestClassifier())]),\n",
       "                   param_distributions={&#x27;reg__max_depth&#x27;: [None, 2, 3],\n",
       "                                        &#x27;reg__min_samples_leaf&#x27;: [1, 2, 3],\n",
       "                                        &#x27;reg__min_samples_split&#x27;: [2, 3, 4],\n",
       "                                        &#x27;reg__n_estimators&#x27;: [50, 100, 150]},\n",
       "                   scoring=&#x27;neg_log_loss&#x27;, verbose=3)</pre><b>In a Jupyter environment, please rerun this cell to show the HTML representation or trust the notebook. <br />On GitHub, the HTML representation is unable to render, please try loading this page with nbviewer.org.</b></div><div class=\"sk-container\" hidden><div class=\"sk-item sk-dashed-wrapped\"><div class=\"sk-label-container\"><div class=\"sk-label sk-toggleable\"><input class=\"sk-toggleable__control sk-hidden--visually\" id=\"sk-estimator-id-1\" type=\"checkbox\" ><label for=\"sk-estimator-id-1\" class=\"sk-toggleable__label sk-toggleable__label-arrow\">RandomizedSearchCV</label><div class=\"sk-toggleable__content\"><pre>RandomizedSearchCV(cv=StratifiedKFold(n_splits=5, random_state=23, shuffle=True),\n",
       "                   estimator=Pipeline(steps=[(&#x27;Imputer&#x27;, SimpleImputer()),\n",
       "                                             (&#x27;reg&#x27;,\n",
       "                                              RandomForestClassifier())]),\n",
       "                   param_distributions={&#x27;reg__max_depth&#x27;: [None, 2, 3],\n",
       "                                        &#x27;reg__min_samples_leaf&#x27;: [1, 2, 3],\n",
       "                                        &#x27;reg__min_samples_split&#x27;: [2, 3, 4],\n",
       "                                        &#x27;reg__n_estimators&#x27;: [50, 100, 150]},\n",
       "                   scoring=&#x27;neg_log_loss&#x27;, verbose=3)</pre></div></div></div><div class=\"sk-parallel\"><div class=\"sk-parallel-item\"><div class=\"sk-item\"><div class=\"sk-label-container\"><div class=\"sk-label sk-toggleable\"><input class=\"sk-toggleable__control sk-hidden--visually\" id=\"sk-estimator-id-2\" type=\"checkbox\" ><label for=\"sk-estimator-id-2\" class=\"sk-toggleable__label sk-toggleable__label-arrow\">estimator: Pipeline</label><div class=\"sk-toggleable__content\"><pre>Pipeline(steps=[(&#x27;Imputer&#x27;, SimpleImputer()),\n",
       "                (&#x27;reg&#x27;, RandomForestClassifier())])</pre></div></div></div><div class=\"sk-serial\"><div class=\"sk-item\"><div class=\"sk-serial\"><div class=\"sk-item\"><div class=\"sk-estimator sk-toggleable\"><input class=\"sk-toggleable__control sk-hidden--visually\" id=\"sk-estimator-id-3\" type=\"checkbox\" ><label for=\"sk-estimator-id-3\" class=\"sk-toggleable__label sk-toggleable__label-arrow\">SimpleImputer</label><div class=\"sk-toggleable__content\"><pre>SimpleImputer()</pre></div></div></div><div class=\"sk-item\"><div class=\"sk-estimator sk-toggleable\"><input class=\"sk-toggleable__control sk-hidden--visually\" id=\"sk-estimator-id-4\" type=\"checkbox\" ><label for=\"sk-estimator-id-4\" class=\"sk-toggleable__label sk-toggleable__label-arrow\">RandomForestClassifier</label><div class=\"sk-toggleable__content\"><pre>RandomForestClassifier()</pre></div></div></div></div></div></div></div></div></div></div></div></div>"
      ],
      "text/plain": [
       "RandomizedSearchCV(cv=StratifiedKFold(n_splits=5, random_state=23, shuffle=True),\n",
       "                   estimator=Pipeline(steps=[('Imputer', SimpleImputer()),\n",
       "                                             ('reg',\n",
       "                                              RandomForestClassifier())]),\n",
       "                   param_distributions={'reg__max_depth': [None, 2, 3],\n",
       "                                        'reg__min_samples_leaf': [1, 2, 3],\n",
       "                                        'reg__min_samples_split': [2, 3, 4],\n",
       "                                        'reg__n_estimators': [50, 100, 150]},\n",
       "                   scoring='neg_log_loss', verbose=3)"
      ]
     },
     "execution_count": 18,
     "metadata": {},
     "output_type": "execute_result"
    }
   ],
   "source": [
    "kfold = StratifiedKFold(n_splits=5, shuffle=True, random_state = 23)\n",
    "imputer = SimpleImputer()\n",
    "pipe = Pipeline([('Imputer', imputer), ('reg', model)])\n",
    "params = { 'reg__max_depth': [None, 2, 3], \n",
    "              'reg__min_samples_leaf' : [1, 2, 3],\n",
    "              'reg__min_samples_split': [2, 3, 4],\n",
    "              'reg__n_estimators' : [50, 100, 150]\n",
    "}\n",
    "gcv = RandomizedSearchCV(pipe, param_distributions=params, cv = kfold, verbose = 3, scoring = 'neg_log_loss')\n",
    "gcv.fit(X_encoded, y)\n"
   ]
  },
  {
   "cell_type": "code",
   "execution_count": 19,
   "id": "9c98a413",
   "metadata": {
    "execution": {
     "iopub.execute_input": "2023-08-02T15:54:11.638984Z",
     "iopub.status.busy": "2023-08-02T15:54:11.638537Z",
     "iopub.status.idle": "2023-08-02T15:54:11.644982Z",
     "shell.execute_reply": "2023-08-02T15:54:11.644152Z"
    },
    "papermill": {
     "duration": 0.030031,
     "end_time": "2023-08-02T15:54:11.647249",
     "exception": false,
     "start_time": "2023-08-02T15:54:11.617218",
     "status": "completed"
    },
    "tags": []
   },
   "outputs": [
    {
     "name": "stdout",
     "output_type": "stream",
     "text": [
      "{'reg__n_estimators': 50, 'reg__min_samples_split': 2, 'reg__min_samples_leaf': 3, 'reg__max_depth': None}\n",
      "-0.44475886368503625\n"
     ]
    }
   ],
   "source": [
    "print(gcv.best_params_)\n",
    "print(gcv.best_score_)"
   ]
  },
  {
   "cell_type": "markdown",
   "id": "299b3b2d",
   "metadata": {
    "papermill": {
     "duration": 0.019392,
     "end_time": "2023-08-02T15:54:11.687804",
     "exception": false,
     "start_time": "2023-08-02T15:54:11.668412",
     "status": "completed"
    },
    "tags": []
   },
   "source": []
  },
  {
   "cell_type": "code",
   "execution_count": 20,
   "id": "71f66a86",
   "metadata": {
    "execution": {
     "iopub.execute_input": "2023-08-02T15:54:11.730237Z",
     "iopub.status.busy": "2023-08-02T15:54:11.729679Z",
     "iopub.status.idle": "2023-08-02T15:54:11.785586Z",
     "shell.execute_reply": "2023-08-02T15:54:11.784381Z"
    },
    "papermill": {
     "duration": 0.080747,
     "end_time": "2023-08-02T15:54:11.788437",
     "exception": false,
     "start_time": "2023-08-02T15:54:11.707690",
     "status": "completed"
    },
    "tags": []
   },
   "outputs": [],
   "source": [
    "submissions = gcv.predict(X_test_encoded)\n",
    "sub = np.array(submissions, dtype=bool)"
   ]
  },
  {
   "cell_type": "code",
   "execution_count": 21,
   "id": "0e4f44e0",
   "metadata": {
    "execution": {
     "iopub.execute_input": "2023-08-02T15:54:11.830550Z",
     "iopub.status.busy": "2023-08-02T15:54:11.830150Z",
     "iopub.status.idle": "2023-08-02T15:54:11.852079Z",
     "shell.execute_reply": "2023-08-02T15:54:11.850610Z"
    },
    "papermill": {
     "duration": 0.045871,
     "end_time": "2023-08-02T15:54:11.854619",
     "exception": false,
     "start_time": "2023-08-02T15:54:11.808748",
     "status": "completed"
    },
    "tags": []
   },
   "outputs": [
    {
     "name": "stdout",
     "output_type": "stream",
     "text": [
      "saved\n"
     ]
    }
   ],
   "source": [
    "output = pd.DataFrame({'PassengerId': test.PassengerId, 'Transported': sub})\n",
    "output.to_csv('submission.csv', index=False)\n",
    "print('saved')"
   ]
  }
 ],
 "metadata": {
  "kernelspec": {
   "display_name": "Python 3",
   "language": "python",
   "name": "python3"
  },
  "language_info": {
   "codemirror_mode": {
    "name": "ipython",
    "version": 3
   },
   "file_extension": ".py",
   "mimetype": "text/x-python",
   "name": "python",
   "nbconvert_exporter": "python",
   "pygments_lexer": "ipython3",
   "version": "3.10.12"
  },
  "papermill": {
   "default_parameters": {},
   "duration": 46.165318,
   "end_time": "2023-08-02T15:54:12.999563",
   "environment_variables": {},
   "exception": null,
   "input_path": "__notebook__.ipynb",
   "output_path": "__notebook__.ipynb",
   "parameters": {},
   "start_time": "2023-08-02T15:53:26.834245",
   "version": "2.4.0"
  }
 },
 "nbformat": 4,
 "nbformat_minor": 5
}
